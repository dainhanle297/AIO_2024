{
  "nbformat": 4,
  "nbformat_minor": 0,
  "metadata": {
    "colab": {
      "provenance": []
    },
    "kernelspec": {
      "name": "python3",
      "display_name": "Python 3"
    },
    "language_info": {
      "name": "python"
    }
  },
  "cells": [
    {
      "cell_type": "markdown",
      "source": [
        "# 1. F1-score"
      ],
      "metadata": {
        "id": "6y4ln3UbB8-M"
      }
    },
    {
      "cell_type": "code",
      "source": [
        "def f1_score(tp, fp, fn):\n",
        "  # Check condition\n",
        "  # Condition 1\n",
        "  if not isinstance(tp, int):\n",
        "    print(\"tp must be int\")\n",
        "    raise TypeError\n",
        "  if not isinstance(fp, int):\n",
        "    print(\"fp must be int\")\n",
        "    raise TypeError\n",
        "  if not isinstance(fn, int):\n",
        "    print(\"fn must be int\")\n",
        "    raise TypeError\n",
        "  # Condition 2\n",
        "  if tp <= 0 or fp <= 0 or fn <= 0:\n",
        "    print(\"tp and fp and fn must be greater than zero\")\n",
        "    raise ValueError\n",
        "\n",
        "  # Calculation\n",
        "  precision = tp/(tp+fp)\n",
        "  recall = tp/(tp+fn)\n",
        "  f1 = 2*precision*recall/(precision+recall)\n",
        "\n",
        "  # Print results\n",
        "  print(\"precision is \", precision)\n",
        "  print(\"recall is \", recall)\n",
        "  print(\"f1-score is \", f1)"
      ],
      "metadata": {
        "id": "sNW6WRZ0CDIA"
      },
      "execution_count": 1,
      "outputs": []
    },
    {
      "cell_type": "code",
      "source": [
        "f1_score( tp =2 , fp =3 , fn =4)"
      ],
      "metadata": {
        "colab": {
          "base_uri": "https://localhost:8080/"
        },
        "id": "CrgDcx9NCDFN",
        "outputId": "9cc82fca-92e3-436a-8440-4f2e012350bb"
      },
      "execution_count": 2,
      "outputs": [
        {
          "output_type": "stream",
          "name": "stdout",
          "text": [
            "precision is  0.4\n",
            "recall is  0.3333333333333333\n",
            "f1-score is  0.3636363636363636\n"
          ]
        }
      ]
    },
    {
      "cell_type": "markdown",
      "source": [
        "# 2. Activation function"
      ],
      "metadata": {
        "id": "0nqx88FTCDCX"
      }
    },
    {
      "cell_type": "code",
      "source": [
        "# activation fuction\n",
        "import math\n",
        "def sigmoid(x):\n",
        "  e = math.e\n",
        "  return 1/(1+e**(-x))\n",
        "\n",
        "def relu(x):\n",
        "  if x <= 0:\n",
        "    return 0\n",
        "  else:\n",
        "    return x\n",
        "\n",
        "def elu(x):\n",
        "  e = math.e\n",
        "  if x <= 0:\n",
        "    return 0.01*(e**(x)-1)\n",
        "  else:\n",
        "    return x\n",
        "\n",
        "def activation_function():\n",
        "  x = input(\"Input x = \")\n",
        "  def is_number ( n ) :\n",
        "    try :\n",
        "      float ( n ) # Type - casting the string to ‘float ‘.\n",
        "      # If string is not a valid ‘float ‘ ,\n",
        "      # it ’ll raise ‘ValueError ‘ exception\n",
        "    except ValueError :\n",
        "      return False\n",
        "    return True\n",
        "\n",
        "  if is_number(x) == False:\n",
        "    print(\"x must be a number\")\n",
        "    raise ValueError\n",
        "  x = float(x)\n",
        "  type_func = input(\"Input activation Function ( sigmoid | relu | elu ) : \")\n",
        "\n",
        "  if type_func == \"sigmoid\":\n",
        "    result = sigmoid(x)\n",
        "    print(f\"{type_func}: f({x}) = {result}\")\n",
        "  elif type_func == \"relu\":\n",
        "    result = relu(x)\n",
        "    print(f\"{type_func}: f({x}) = {result}\")\n",
        "  elif type_func == \"elu\":\n",
        "    result = elu(x)\n",
        "    print(f\"{type_func}: f({x}) = {result}\")\n",
        "  else:\n",
        "    print(f\"{type_func} is not supportted\")"
      ],
      "metadata": {
        "id": "9LlQO4zYCC_g"
      },
      "execution_count": 7,
      "outputs": []
    },
    {
      "cell_type": "code",
      "source": [
        "activation_function()"
      ],
      "metadata": {
        "colab": {
          "base_uri": "https://localhost:8080/"
        },
        "id": "Kq1P4_JTCC8q",
        "outputId": "71aa6cd9-395b-4231-92d0-1e57f8430bf2"
      },
      "execution_count": 56,
      "outputs": [
        {
          "output_type": "stream",
          "name": "stdout",
          "text": [
            "Input x = 3\n",
            "Input activation Function ( sigmoid | relu | elu ) : sigmoid\n",
            "sigmoid: f(3.0) = 0.9525741268224331\n"
          ]
        }
      ]
    },
    {
      "cell_type": "code",
      "source": [
        "activation_function()"
      ],
      "metadata": {
        "colab": {
          "base_uri": "https://localhost:8080/"
        },
        "id": "ZUe-yBe6CC6B",
        "outputId": "d98c53d4-4da1-4b79-9f1a-9c2787a7f0ff"
      },
      "execution_count": 8,
      "outputs": [
        {
          "output_type": "stream",
          "name": "stdout",
          "text": [
            "Input x = 1.5\n",
            "Input activation Function ( sigmoid | relu | elu ) : belu\n",
            "belu is not supportted\n"
          ]
        }
      ]
    },
    {
      "cell_type": "code",
      "source": [
        "activation_function()"
      ],
      "metadata": {
        "colab": {
          "base_uri": "https://localhost:8080/",
          "height": 315
        },
        "id": "SZVou2OnCC26",
        "outputId": "62605b28-94ca-40c6-eb96-d3088e7b6633"
      },
      "execution_count": 6,
      "outputs": [
        {
          "output_type": "stream",
          "name": "stdout",
          "text": [
            "Input x = abc\n",
            "x must be a number\n"
          ]
        },
        {
          "output_type": "error",
          "ename": "ValueError",
          "evalue": "",
          "traceback": [
            "\u001b[0;31m---------------------------------------------------------------------------\u001b[0m",
            "\u001b[0;31mValueError\u001b[0m                                Traceback (most recent call last)",
            "\u001b[0;32m<ipython-input-6-99c0c003ce0c>\u001b[0m in \u001b[0;36m<cell line: 1>\u001b[0;34m()\u001b[0m\n\u001b[0;32m----> 1\u001b[0;31m \u001b[0mactivation_function\u001b[0m\u001b[0;34m(\u001b[0m\u001b[0;34m)\u001b[0m\u001b[0;34m\u001b[0m\u001b[0;34m\u001b[0m\u001b[0m\n\u001b[0m",
            "\u001b[0;32m<ipython-input-3-a900a201181b>\u001b[0m in \u001b[0;36mactivation_function\u001b[0;34m()\u001b[0m\n\u001b[1;32m     31\u001b[0m   \u001b[0;32mif\u001b[0m \u001b[0mis_number\u001b[0m\u001b[0;34m(\u001b[0m\u001b[0mx\u001b[0m\u001b[0;34m)\u001b[0m \u001b[0;34m==\u001b[0m \u001b[0;32mFalse\u001b[0m\u001b[0;34m:\u001b[0m\u001b[0;34m\u001b[0m\u001b[0;34m\u001b[0m\u001b[0m\n\u001b[1;32m     32\u001b[0m     \u001b[0mprint\u001b[0m\u001b[0;34m(\u001b[0m\u001b[0;34m\"x must be a number\"\u001b[0m\u001b[0;34m)\u001b[0m\u001b[0;34m\u001b[0m\u001b[0;34m\u001b[0m\u001b[0m\n\u001b[0;32m---> 33\u001b[0;31m     \u001b[0;32mraise\u001b[0m \u001b[0mValueError\u001b[0m\u001b[0;34m\u001b[0m\u001b[0;34m\u001b[0m\u001b[0m\n\u001b[0m\u001b[1;32m     34\u001b[0m   \u001b[0mx\u001b[0m \u001b[0;34m=\u001b[0m \u001b[0mfloat\u001b[0m\u001b[0;34m(\u001b[0m\u001b[0mx\u001b[0m\u001b[0;34m)\u001b[0m\u001b[0;34m\u001b[0m\u001b[0;34m\u001b[0m\u001b[0m\n\u001b[1;32m     35\u001b[0m   \u001b[0mtype_func\u001b[0m \u001b[0;34m=\u001b[0m \u001b[0minput\u001b[0m\u001b[0;34m(\u001b[0m\u001b[0;34m\"Input activation Function ( sigmoid | relu | elu ) : \"\u001b[0m\u001b[0;34m)\u001b[0m\u001b[0;34m\u001b[0m\u001b[0;34m\u001b[0m\u001b[0m\n",
            "\u001b[0;31mValueError\u001b[0m: "
          ]
        }
      ]
    },
    {
      "cell_type": "markdown",
      "source": [
        "# 3. Regression loss function"
      ],
      "metadata": {
        "id": "U5XhXWsECCzQ"
      }
    },
    {
      "cell_type": "code",
      "source": [
        "import math\n",
        "\n",
        "def calculate_metrics(type_loss, y_true, y_pred):\n",
        "  if type_loss == \"MSE\":\n",
        "    return cal_mse(y_pred, y_true)\n",
        "  elif type_loss == \"RMSE\":\n",
        "    return cal_rmse(y_pred, y_true)\n",
        "  elif type_loss == \"MAE\":\n",
        "    return cal_mae(y_pred, y_true)\n",
        "  else:\n",
        "    raise ValueError(\"Invalid loss type:\", type_loss)\n",
        "\n",
        "def cal_mse(y_pred, y_true):\n",
        "  return (y_true - y_pred)**2\n",
        "\n",
        "def cal_rmse(y_pred, y_true):\n",
        "  mse = cal_mse(y_pred, y_true)\n",
        "  return math.sqrt(mse)\n",
        "\n",
        "def cal_mae(y_pred, y_true):\n",
        "  return abs(y_true - y_pred)"
      ],
      "metadata": {
        "id": "FZ2wirZMm17d"
      },
      "execution_count": 20,
      "outputs": []
    },
    {
      "cell_type": "code",
      "source": [
        "import math\n",
        "import random\n",
        "\n",
        "def regression_loss():\n",
        "  x = input(\"Input number of samples ( integer number ) which are generated : \")\n",
        "  def is_number ( n ) :\n",
        "    try :\n",
        "      float ( n ) # Type - casting the string to ‘float ‘.\n",
        "      # If string is not a valid ‘float ‘ ,\n",
        "      # it ’ll raise ‘ValueError ‘ exception\n",
        "    except ValueError :\n",
        "      return False\n",
        "    return True\n",
        "\n",
        "  if is_number(x) == False:\n",
        "    print(\"Number of samples must be an integer number\")\n",
        "    raise ValueError\n",
        "  x = int(x)\n",
        "  type_loss = input(\"Input loss name : \")\n",
        "\n",
        "  # Calculation:\n",
        "\n",
        "  for i in range(x):\n",
        "    y_pred = random.uniform(0, 10)\n",
        "    y_true = random.uniform(0, 10)\n",
        "\n",
        "    loss = calculate_metrics(type_loss, y_true, y_pred)\n",
        "    print(f\"loss name: {type_loss}, sample: {i}, pred: {y_pred}, target: {y_true}, loss: {loss}\")\n",
        "\n",
        "\n"
      ],
      "metadata": {
        "id": "pRB7C94dCCwZ"
      },
      "execution_count": 21,
      "outputs": []
    },
    {
      "cell_type": "code",
      "source": [
        "regression_loss()"
      ],
      "metadata": {
        "colab": {
          "base_uri": "https://localhost:8080/"
        },
        "id": "cQeNUbcBjy3F",
        "outputId": "ad62600f-cb4c-4bf6-8f22-6226554bb130"
      },
      "execution_count": 22,
      "outputs": [
        {
          "output_type": "stream",
          "name": "stdout",
          "text": [
            "Input number of samples ( integer number ) which are generated : 5\n",
            "Input loss name : RMSE\n",
            "loss name: RMSE, sample: 0, pred: 1.7624047559770573, target: 2.030349240598086, loss: 0.2679444846210288\n",
            "loss name: RMSE, sample: 1, pred: 1.499069395799597, target: 0.12564252718812896, loss: 1.3734268686114681\n",
            "loss name: RMSE, sample: 2, pred: 7.516980765039895, target: 7.023336511010346, loss: 0.49364425402954915\n",
            "loss name: RMSE, sample: 3, pred: 5.820423654151254, target: 8.19965125079731, loss: 2.3792275966460554\n",
            "loss name: RMSE, sample: 4, pred: 1.3016557734233392, target: 9.294080051226176, loss: 7.992424277802837\n"
          ]
        }
      ]
    },
    {
      "cell_type": "markdown",
      "source": [
        "# 4. Geometric function"
      ],
      "metadata": {
        "id": "XXL40Rqdjyzy"
      }
    },
    {
      "cell_type": "code",
      "source": [
        "# factorial\n",
        "def factorial(n):\n",
        "  if n < 0:\n",
        "    raise ValueError(\"Factorial is not defined for negative numbers.\")\n",
        "  result = 1\n",
        "  for i in range(1, n + 1):\n",
        "    result *= i\n",
        "  return result\n",
        "\n",
        "# Calculation\n",
        "\n",
        "def approx_sin(x, n):\n",
        "  sum = 0\n",
        "  for i in range(n):\n",
        "    sum += (-1)**i * x**(2*i+1) / factorial(2*i+1)\n",
        "  return sum\n",
        "\n",
        "def approx_cos(x, n):\n",
        "  sum = 0\n",
        "  for i in range(n):\n",
        "    sum += (-1)**i * x**(2*i) / factorial(2*i)\n",
        "  return sum\n",
        "\n",
        "def approx_sinh(x, n):\n",
        "  sum = 0\n",
        "  for i in range(n):\n",
        "    sum += x**(2*i+1) / factorial(2*i+1)\n",
        "  return sum\n",
        "\n",
        "def approx_cosh(x, n):\n",
        "  sum = 0\n",
        "  for i in range(n):\n",
        "    sum += x**(2*i) / factorial(2*i)\n",
        "  return sum"
      ],
      "metadata": {
        "id": "E6c13Y3bjyxT"
      },
      "execution_count": 36,
      "outputs": []
    },
    {
      "cell_type": "code",
      "source": [
        "approx_sin ( x =1 , n =10)"
      ],
      "metadata": {
        "colab": {
          "base_uri": "https://localhost:8080/"
        },
        "id": "8Gmu1TLjjyuw",
        "outputId": "0fe8c798-072b-4346-c64b-340634c252c9"
      },
      "execution_count": 60,
      "outputs": [
        {
          "output_type": "execute_result",
          "data": {
            "text/plain": [
              "0.8414709848078965"
            ]
          },
          "metadata": {},
          "execution_count": 60
        }
      ]
    },
    {
      "cell_type": "code",
      "source": [
        "approx_cos ( x =3.14 , n =10)"
      ],
      "metadata": {
        "colab": {
          "base_uri": "https://localhost:8080/"
        },
        "id": "zQVoBcpnjyr4",
        "outputId": "6c2a9029-99c8-4630-f78b-31747d13b6ed"
      },
      "execution_count": 58,
      "outputs": [
        {
          "output_type": "execute_result",
          "data": {
            "text/plain": [
              "-0.9999987352210833"
            ]
          },
          "metadata": {},
          "execution_count": 58
        }
      ]
    },
    {
      "cell_type": "code",
      "source": [
        "approx_sinh ( x =3.14 , n =10)"
      ],
      "metadata": {
        "colab": {
          "base_uri": "https://localhost:8080/"
        },
        "id": "9p3INV8ijypJ",
        "outputId": "fa75d9c4-ca22-40b4-e6eb-4e33410dc561"
      },
      "execution_count": 62,
      "outputs": [
        {
          "output_type": "execute_result",
          "data": {
            "text/plain": [
              "11.530292029865986"
            ]
          },
          "metadata": {},
          "execution_count": 62
        }
      ]
    },
    {
      "cell_type": "code",
      "source": [
        "approx_cosh ( x =1 , n =10)"
      ],
      "metadata": {
        "colab": {
          "base_uri": "https://localhost:8080/"
        },
        "id": "eGNrgtsevXvn",
        "outputId": "4ac947b5-c4c1-4f6c-e143-d299cb0839f5"
      },
      "execution_count": 63,
      "outputs": [
        {
          "output_type": "execute_result",
          "data": {
            "text/plain": [
              "1.543080634815244"
            ]
          },
          "metadata": {},
          "execution_count": 63
        }
      ]
    },
    {
      "cell_type": "markdown",
      "source": [
        "# 5. Mean Difference"
      ],
      "metadata": {
        "id": "2EPDczg2vXso"
      }
    },
    {
      "cell_type": "code",
      "source": [
        "def md_nre_single_sample(y, y_hat, n, p):\n",
        "  return (y ** (1/n) - y_hat ** (1/n))**p"
      ],
      "metadata": {
        "id": "svoLzKxXvXp7"
      },
      "execution_count": 42,
      "outputs": []
    },
    {
      "cell_type": "code",
      "source": [
        "md_nre_single_sample ( y =100 , y_hat =99.5 , n =2 , p =1)"
      ],
      "metadata": {
        "colab": {
          "base_uri": "https://localhost:8080/"
        },
        "id": "vz-gr2l6vXnM",
        "outputId": "898b4e5b-2984-4b3b-9c9f-fb0010a7cf46"
      },
      "execution_count": 43,
      "outputs": [
        {
          "output_type": "execute_result",
          "data": {
            "text/plain": [
              "0.025031328369998107"
            ]
          },
          "metadata": {},
          "execution_count": 43
        }
      ]
    },
    {
      "cell_type": "code",
      "source": [
        "md_nre_single_sample ( y =50 , y_hat =49.5 , n =2 , p =1)"
      ],
      "metadata": {
        "colab": {
          "base_uri": "https://localhost:8080/"
        },
        "id": "rCfcb2nNxZM4",
        "outputId": "4cd39e80-98ac-47fa-c021-d36a2e2c239b"
      },
      "execution_count": 44,
      "outputs": [
        {
          "output_type": "execute_result",
          "data": {
            "text/plain": [
              "0.03544417213033135"
            ]
          },
          "metadata": {},
          "execution_count": 44
        }
      ]
    },
    {
      "cell_type": "code",
      "source": [
        "md_nre_single_sample ( y =20 , y_hat =19.5 , n =2 , p =1)"
      ],
      "metadata": {
        "colab": {
          "base_uri": "https://localhost:8080/"
        },
        "id": "SUgD9KjdxZKS",
        "outputId": "81ff8a37-e168-47b7-ca56-7db1d8ba8889"
      },
      "execution_count": 46,
      "outputs": [
        {
          "output_type": "execute_result",
          "data": {
            "text/plain": [
              "0.05625552183565574"
            ]
          },
          "metadata": {},
          "execution_count": 46
        }
      ]
    },
    {
      "cell_type": "code",
      "source": [
        "md_nre_single_sample ( y =0.6 , y_hat =0.1 , n =2 , p =1)"
      ],
      "metadata": {
        "colab": {
          "base_uri": "https://localhost:8080/"
        },
        "id": "eTSlek4MxZHt",
        "outputId": "3d553dac-7738-43d1-8ef2-fe282a738868"
      },
      "execution_count": 47,
      "outputs": [
        {
          "output_type": "execute_result",
          "data": {
            "text/plain": [
              "0.45836890322464546"
            ]
          },
          "metadata": {},
          "execution_count": 47
        }
      ]
    }
  ]
}